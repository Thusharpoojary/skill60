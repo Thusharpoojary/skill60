{
 "cells": [
  {
   "cell_type": "code",
   "execution_count": 2,
   "id": "054c9827-2a4a-4cb2-b6b0-55b425835097",
   "metadata": {},
   "outputs": [
    {
     "name": "stdout",
     "output_type": "stream",
     "text": [
      "HELLO WORLD\n"
     ]
    }
   ],
   "source": [
    "print(\"HELLO WORLD\")\n"
   ]
  },
  {
   "cell_type": "markdown",
   "id": "bbc34fe2",
   "metadata": {},
   "source": [
    "2: Write a Python program that takes a user input and prints it."
   ]
  },
  {
   "cell_type": "code",
   "execution_count": null,
   "id": "7b1350cc",
   "metadata": {},
   "outputs": [],
   "source": [
    "name=input(\"Enter your name\")\n",
    "print(name)"
   ]
  },
  {
   "cell_type": "markdown",
   "id": "3c424814",
   "metadata": {},
   "source": [
    "3: Create variables of different data types: integer, float, string, and boolean. Print their values and types"
   ]
  },
  {
   "cell_type": "code",
   "execution_count": null,
   "id": "01754b7a",
   "metadata": {},
   "outputs": [],
   "source": []
  }
 ],
 "metadata": {
  "kernelspec": {
   "display_name": "base",
   "language": "python",
   "name": "python3"
  },
  "language_info": {
   "codemirror_mode": {
    "name": "ipython",
    "version": 3
   },
   "file_extension": ".py",
   "mimetype": "text/x-python",
   "name": "python",
   "nbconvert_exporter": "python",
   "pygments_lexer": "ipython3",
   "version": "3.13.5"
  }
 },
 "nbformat": 4,
 "nbformat_minor": 5
}
